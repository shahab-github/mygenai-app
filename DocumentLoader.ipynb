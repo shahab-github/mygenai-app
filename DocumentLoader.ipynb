{
 "cells": [
  {
   "cell_type": "markdown",
   "id": "b8f2f967",
   "metadata": {},
   "source": [
    "## Document Loader\n",
    "In this notebook, we will explore how to load documents from various sources and prepare them for further processing."
   ]
  },
  {
   "cell_type": "markdown",
   "id": "87d90089",
   "metadata": {},
   "source": [
    "## Getting Started with TextLoader\n",
    "We will load the text from the file `speeches.txt` using the `TextLoader` class."
   ]
  },
  {
   "cell_type": "code",
   "execution_count": 15,
   "id": "ac246577",
   "metadata": {},
   "outputs": [],
   "source": [
    "from langchain_community.document_loaders import TextLoader\n",
    "\n",
    "loader = TextLoader('./speech.txt')\n",
    "documents = loader.load()\n"
   ]
  },
  {
   "cell_type": "markdown",
   "id": "e8af1dd6",
   "metadata": {},
   "source": [
    "## Getting Started with PDF Loader "
   ]
  },
  {
   "cell_type": "code",
   "execution_count": 14,
   "id": "24ff3ad2",
   "metadata": {},
   "outputs": [
    {
     "name": "stdout",
     "output_type": "stream",
     "text": [
      "{'producer': 'Microsoft® Word for Microsoft 365', 'creator': 'Microsoft® Word for Microsoft 365', 'creationdate': '2024-07-30T16:42:53+05:30', 'moddate': '2024-07-30T16:42:53+05:30', 'source': './RelievingLetter.pdf', 'total_pages': 1, 'page': 0, 'page_label': '1'}\n",
      "18-Dec-2019 \n",
      " \n",
      "Dear Mohammed  Shahabuddin \n",
      "Employee  ID : 104501551 \n",
      "This is to confirm that you are relieved from the services of the company effective close of working hours on 15 Nov 2019 \n",
      " \n",
      "We confirm that you have been working for Amazon Development Centre India Pvt. Ltd., Hyderabad from 10 Oct 2018 till 15 Nov 2019 \n",
      "as a Full Time Employee, and your designation at the time of leaving the organization was CLOUD ENGINEER-I . With \n",
      "regards to the settlement of your dues please contact the HR department on queries, if any. \n",
      "We would like to take this opportunity to remind you of the clauses pertaining to confidentiality agreement signed by you at the time of \n",
      "joining, especially emphasizing on Section 4(b) (i) and (ii) of the confidentiality agreement which is as follows: \n",
      "Section 4 (b): While employed by the Company and for a period of twelve (12) months after the Date of Termination, without re gard to the \n",
      "reason, if any, such employment shall terminate, the Employee will not, directly or indirectly, and whether or not for compensation, either on \n",
      "his or her own behalf or as an employee, officer, agent, consultant, director, owner, partner, joint venturer, shareholder, i nvestor, or in any \n",
      "other capacity: \n",
      "(i) induce or attempt  to induce  any employee,  consultant,  sales agent,  supplier,  customer  or independent  contractor  of the  Company  to end his or her \n",
      "relationship with the Company, or  \n",
      "(ii) employ, retain as a consultant or contractor, or cause to be so employed or retained, any employee (or former employee   within twelve (12) \n",
      "months after the date such former employee ceases to be employed by the Company), consultant, sales   agent, or independent contractor of the \n",
      "Company; \n",
      "These clauses stipulate that you will adhere to the terms & conditions specified in the clauses even after the period of empl oyment with \n",
      "Amazon. \n",
      "\"For any future correspondence, please write to employmentverifications@amazon.com or call Toll Free 1800 3000 2058\" \n",
      " \n",
      "Amazon Development Centre India Pvt. Ltd. wish you all the best in your future endeavors. \n",
      "For Amazon Development Centre India Pvt. Ltd. \n",
      "Priyank Neha Singh \n",
      " \n",
      "GLOBAL DELIVERY MANAGER, EXITS \n",
      " \n",
      " \n",
      " \n",
      " \n",
      "Signature Not Verified \n",
      "Digitally signed by DS AMAZON DEVELOPMENT \n",
      "CENTRE (INDIA) PRIVATE LIMITED 6 \n",
      "Date: 2019.12.18 05:59:44 IST \n",
      "Location: Bengaluru\n"
     ]
    }
   ],
   "source": [
    "# pdf loader\n",
    "from langchain_community.document_loaders import PyPDFLoader\n",
    "\n",
    "loader = PyPDFLoader('./RelievingLetter.pdf')\n",
    "documents = loader.load()\n",
    "\n",
    "metadata = documents[0].metadata\n",
    "print(metadata)\n",
    "\n",
    "content = documents[0].page_content\n",
    "print(content)\n"
   ]
  },
  {
   "cell_type": "markdown",
   "id": "f00fc477",
   "metadata": {},
   "source": [
    "## Getting started with WebBase Loader\n",
    "We are going to use the WebBase Loader to load the data from the web."
   ]
  },
  {
   "cell_type": "code",
   "execution_count": 27,
   "id": "5143d053",
   "metadata": {},
   "outputs": [
    {
     "name": "stdout",
     "output_type": "stream",
     "text": [
      "page_content='A Very Simple Website: Back to the Basics | by David W. Gray | MediumOpen in appSign upSign inWriteSign upSign inMastodonA Very Simple Website: Back to the BasicsDavid W. GrayFollow7 min read·Sep 16, 2024--ListenShareOne of the students I’m mentoring is taking his first web development class. They ask the students to build a small website from scratch using just HTML, CSS, and JavaScript. I think this is a good thing because it’s worth knowing how the core elements of a website work before diving into a more real-world scenario using a bunch of libraries and build tools to create a site.The thing that got lost in translation was some of the basics of how such a site works. This confusion is something that I’ve seen happen with less experienced engineers who are either right out of college or have been working on desktop applications or embedded systems and are moving into a team that’s doing full-stack development. The last time that happened on a team I was leading, I sat the whole team in a room. The folks who had experience with web development fielded questions and drew diagrams on whiteboards until those who didn’t have experience in web development felt like they were at least starting to get a clue. It was a blast, and while I’m unable to reproduce that in a blog post, I’d like to cover just a few of the concepts in web development that often get lost in the complexity of modern tooling.What is a Web Site?All you really need to build a website is a text editor, somewhere to store the files you create, and a program to serve those files to a browser. There doesn’t have to be a build process, complicated systems to manage the site’s components, or dependencies on a bunch of different libraries.Now, you’ll want all those things and possibly more for a production website in the real world. But if you’re learning how things work, getting back to basics has some real value.So, what are some examples of those three components?I won’t spend much time on the text editor. Visual Studio Code tends to be the industry default these days, but Notepad, Edit, or any basic text editor will work.The software used to serve up the website is generically called a web server. When I first built websites in the mid-nineties, I ran Internet Information Server on a PC sitting in my spare bedroom, and the file store was just the Windows file system. The key to making this a public-facing website was that the computer was connected to the internet via my ISP, and IIS was capable of communicating with the rest of the internet via HTTP, HTTPS, and other protocols.¹Creating a Website LocallyBefore getting into how to create a public website, I’d like to write and test a website on my local computer with as little extra tooling as possible. It turns out I can just let the file system serve up the files to the browser, acting as both the file store and the server. In this case, it’s serving up via the local file protocol rather than the HTTP(S) protocol that a web server would produce, but modern browsers recognize both. For Chromium-based browsers, you’ll get an info icon next to the path name, and the URL may be reformatted to show as a URL rather than a path “file:///C:/…” vs. “C:\\…”. But this will work just fine for a local website.For instance, I can create an extremely simple page by saving the following to a file called “simple.html”<!doctype html><body>Testing a simple page</body>A screenshot of my very simple pageOr see it live at dwgray.github.io/simple.htmlNow, I’m terrible with graphics design in the niceties of CSS, so I will fudge my rules and start with Bootstrap’s minimal template. That will give me some HTML scaffolding and pull Bootstrap from a CDN to get me started with something that isn’t the total ugliness I’d create on my own. Using libraries like this is explicitly disallowed by the student project that got me started down this path, but since I’m not getting graded on my work, I’ll let myself “cheat” in this one aspect.Now I have a site that looks like the image below and hasindex.html, main.js, and style.css files. The index file references the .css and .js files using relative URLs.A very simple site using the bootstrap CDN templateUsing relative URLs is essential since it will let me use code without modification as a public website and a locally running file system “site.”<link rel=\"stylesheet\" href=\"styles.css\"><script src=\"main.js\"></script>You can peruse this code on github — ignore the other files for now; we’ll get to them later.The other important thing about this setup is that I have full access to the developer tools in my browser, so I can inspect my website and use many of the same tools I’d use in real-world development to debug it. If you’re doing anything with web development and don’t know the browser developer tools, stop now and get to know them. (Edge, Chrome, Firefox, Safari).If you’ve worked with more complex development tools like Vite or WebPack, they use various mechanisms that cause the site to update in your browser as soon as you save the file. These go by names like “Hot Reload” or “Live Update”. If you’re working with Visual Studio Code, one way to achieve a version of live updating is by installing LiveServer and running it against your workspace. LiveServer now acts as the web server and performs the magic to update your site anytime you save it. Now, you’re running the site as a local website communicating over HTTP rather than as a file system site.But the plain file system site works just fine overall; you just have to remember to hit the refresh button on your browser to see the changes you’ve made.Publishing my SiteThe student I’m working with was pointed to GitHub Pages or w3spaces to publish his site.For W3spaces, I could get this very minimal site working by creating their blank template and copying over my source to the three files they create with that template. However, I couldn’t get any further than that without paying, so I’ll just point you to the site and call that good.I’m more interested in GitHub Pages since that’s something that the projects I’m working on use but that I haven’t dug into yet. By default, they use a build system called Jekyll to build and deploy pages. And there is some cool stuff built in, where they will build your checked-in markdown files into HTML pages. You can also use GitHub Actions to do more complex building and deploying of a site, which is what the projects I’m working on are doing.But that’s not what I was looking for in this case. I wanted the most straightforward system I could manage and still have a viable website.It turns out that I can disable Jekyll by adding a .nojekyll file to the root of my project, and then the deploy step is to directly copy the main branch of my GitHub repo to whatever they’re using to serve up the pages. I didn’t figure out what they’re using as a web server or file store, but if I were implementing a system like this, I’d consider something like Azure Front Door to serve the pages from Azure Storage or Amazon CloudFront to serve pages from S3. In any case, this is about as simple as I could manage.So I created a GitHub Pages site with Jekyll turned off and started playing around. I created a repo with the required name (dwgray.github.io) for a personal site and cloned it to my local machine. I added the files I grabbed from the Bootstrap template on my local repo and tested them to ensure the site was still behaving as expected. Then I pushed my change to my main branch, which deployed to dwgray.github.io². There is a slight latency between the push and when the deployment completes, but after waiting less than a minute, my site was live.My slightly less simple multi-page siteConclusionI created a simple site using just a vanilla text editor, ran it as a file system site on my local machine, and published it to a GitHub Pages site. I did all of this without using complex build systems or libraries to show some of the fundamentals of how a website works. If you’re new to web development, hopefully this helped you fill in some holes in your mental model of the systems you’re working with.The sample website is available at dwgray.github.io, and the source code can be found at dwgray / dwgray.github.io / multi-page.³¹ In order for the web browser to find the website, you’ll need to configure DNS and have a static IP or some other method of pointing the DNS record to a server that the browser can communicate with, but that’s beyond the scope of this article.² Notice that you don’t have to include the name of the main index.html page when navigating to the website in the browser. This is because the web server has the concept of a default page (or pages) that it will attempt to load if you just specify the base URL.³ If you peruse the code of my multi-page site you’ll notice that there is a bunch of code that is copied and pasted between each of the pages. The biggest chunk is the navigation bar code, but even the scaffolding code of the <head> is duplicated. I’ve mentioned before that I’m allergic to duplicate code, and that is still true. That’s one of the reasons to use more sophisticated tools to build a website, as they all provide one means or another to avoid this kind of duplication.Web DevelopmentFull StackHTMLBootstrap----FollowWritten by David W. Gray33 followers·28 followingI am a software engineer, mentor, and dancer. I'm also passionate about speculative fiction, music, climate justice, and disability rights.FollowNo responses yetHelpStatusAboutCareersPressBlogPrivacyRulesTermsText to speech\n",
      "\n",
      "\n",
      "\n",
      "\n",
      "\n",
      "\n",
      "\n",
      "\n",
      "\n",
      "\n",
      "\n",
      "\n",
      "\n",
      "\n",
      "\n",
      "\n",
      "\n",
      "\n",
      "\n",
      "\n",
      "\n",
      "\n",
      "\n",
      "\n",
      "\n",
      "\n",
      "\n",
      "\n",
      "\n",
      "\n",
      "\n",
      "\n",
      "\n",
      "\n",
      "\n",
      "' metadata={'source': 'https://medium.com/@dwgray/a-very-simple-website-back-to-the-basics-1dffdc43d19b', 'title': 'A Very Simple Website: Back to the Basics | by David W. Gray | Medium', 'description': 'One of the students I’m mentoring is taking his first web development class. They ask the students to build a small website from scratch using just HTML, CSS, and JavaScript. I think this is a good…', 'language': 'en'}\n"
     ]
    }
   ],
   "source": [
    "from langchain_community.document_loaders import WebBaseLoader\n",
    "import bs4\n",
    "\n",
    "url = \"https://medium.com/@dwgray/a-very-simple-website-back-to-the-basics-1dffdc43d19b\"\n",
    "\n",
    "loader = WebBaseLoader(\n",
    "    web_paths=[url]\n",
    ")\n",
    "\n",
    "documents = loader.load()\n",
    "\n",
    "web_page = documents[0]\n",
    "print(web_page)"
   ]
  },
  {
   "cell_type": "markdown",
   "id": "143cae11",
   "metadata": {},
   "source": [
    "## Wikipedia Loader"
   ]
  },
  {
   "cell_type": "code",
   "execution_count": 28,
   "id": "b914792e",
   "metadata": {},
   "outputs": [
    {
     "ename": "ImportError",
     "evalue": "Could not import wikipedia python package. Please install it with `pip install wikipedia`.",
     "output_type": "error",
     "traceback": [
      "\u001b[31m---------------------------------------------------------------------------\u001b[39m",
      "\u001b[31mModuleNotFoundError\u001b[39m                       Traceback (most recent call last)",
      "\u001b[36mFile \u001b[39m\u001b[32me:\\vscode\\udemy-practice\\gen-ai-ollama\\.venv\\Lib\\site-packages\\langchain_community\\utilities\\wikipedia.py:35\u001b[39m, in \u001b[36mWikipediaAPIWrapper.validate_environment\u001b[39m\u001b[34m(cls, values)\u001b[39m\n\u001b[32m     34\u001b[39m \u001b[38;5;28;01mtry\u001b[39;00m:\n\u001b[32m---> \u001b[39m\u001b[32m35\u001b[39m     \u001b[38;5;28;01mimport\u001b[39;00m\u001b[38;5;250m \u001b[39m\u001b[34;01mwikipedia\u001b[39;00m\n\u001b[32m     37\u001b[39m     lang = values.get(\u001b[33m\"\u001b[39m\u001b[33mlang\u001b[39m\u001b[33m\"\u001b[39m, \u001b[33m\"\u001b[39m\u001b[33men\u001b[39m\u001b[33m\"\u001b[39m)\n",
      "\u001b[31mModuleNotFoundError\u001b[39m: No module named 'wikipedia'",
      "\nDuring handling of the above exception, another exception occurred:\n",
      "\u001b[31mImportError\u001b[39m                               Traceback (most recent call last)",
      "\u001b[36mCell\u001b[39m\u001b[36m \u001b[39m\u001b[32mIn[28]\u001b[39m\u001b[32m, line 4\u001b[39m\n\u001b[32m      1\u001b[39m \u001b[38;5;28;01mfrom\u001b[39;00m\u001b[38;5;250m \u001b[39m\u001b[34;01mlangchain_community\u001b[39;00m\u001b[34;01m.\u001b[39;00m\u001b[34;01mdocument_loaders\u001b[39;00m\u001b[38;5;250m \u001b[39m\u001b[38;5;28;01mimport\u001b[39;00m WikipediaLoader\n\u001b[32m      3\u001b[39m loader = WikipediaLoader(query=\u001b[33m\"\u001b[39m\u001b[33mPython (programming language)\u001b[39m\u001b[33m\"\u001b[39m)\n\u001b[32m----> \u001b[39m\u001b[32m4\u001b[39m documents = \u001b[43mloader\u001b[49m\u001b[43m.\u001b[49m\u001b[43mload\u001b[49m\u001b[43m(\u001b[49m\u001b[43m)\u001b[49m\n\u001b[32m      5\u001b[39m \u001b[38;5;28mprint\u001b[39m(documents[\u001b[32m0\u001b[39m].page_content)\n",
      "\u001b[36mFile \u001b[39m\u001b[32me:\\vscode\\udemy-practice\\gen-ai-ollama\\.venv\\Lib\\site-packages\\langchain_core\\document_loaders\\base.py:32\u001b[39m, in \u001b[36mBaseLoader.load\u001b[39m\u001b[34m(self)\u001b[39m\n\u001b[32m     30\u001b[39m \u001b[38;5;28;01mdef\u001b[39;00m\u001b[38;5;250m \u001b[39m\u001b[34mload\u001b[39m(\u001b[38;5;28mself\u001b[39m) -> \u001b[38;5;28mlist\u001b[39m[Document]:\n\u001b[32m     31\u001b[39m \u001b[38;5;250m    \u001b[39m\u001b[33;03m\"\"\"Load data into Document objects.\"\"\"\u001b[39;00m\n\u001b[32m---> \u001b[39m\u001b[32m32\u001b[39m     \u001b[38;5;28;01mreturn\u001b[39;00m \u001b[38;5;28;43mlist\u001b[39;49m\u001b[43m(\u001b[49m\u001b[38;5;28;43mself\u001b[39;49m\u001b[43m.\u001b[49m\u001b[43mlazy_load\u001b[49m\u001b[43m(\u001b[49m\u001b[43m)\u001b[49m\u001b[43m)\u001b[49m\n",
      "\u001b[36mFile \u001b[39m\u001b[32me:\\vscode\\udemy-practice\\gen-ai-ollama\\.venv\\Lib\\site-packages\\langchain_community\\document_loaders\\wikipedia.py:53\u001b[39m, in \u001b[36mWikipediaLoader.lazy_load\u001b[39m\u001b[34m(self)\u001b[39m\n\u001b[32m     45\u001b[39m \u001b[38;5;28;01mdef\u001b[39;00m\u001b[38;5;250m \u001b[39m\u001b[34mlazy_load\u001b[39m(\u001b[38;5;28mself\u001b[39m) -> Iterator[Document]:\n\u001b[32m     46\u001b[39m \u001b[38;5;250m    \u001b[39m\u001b[33;03m\"\"\"\u001b[39;00m\n\u001b[32m     47\u001b[39m \u001b[33;03m    Loads the query result from Wikipedia into a list of Documents.\u001b[39;00m\n\u001b[32m     48\u001b[39m \n\u001b[32m   (...)\u001b[39m\u001b[32m     51\u001b[39m \u001b[33;03m            Wikipedia pages.\u001b[39;00m\n\u001b[32m     52\u001b[39m \u001b[33;03m    \"\"\"\u001b[39;00m\n\u001b[32m---> \u001b[39m\u001b[32m53\u001b[39m     client = \u001b[43mWikipediaAPIWrapper\u001b[49m\u001b[43m(\u001b[49m\u001b[43m  \u001b[49m\u001b[38;5;66;43;03m# type: ignore[call-arg]\u001b[39;49;00m\n\u001b[32m     54\u001b[39m \u001b[43m        \u001b[49m\u001b[43mlang\u001b[49m\u001b[43m=\u001b[49m\u001b[38;5;28;43mself\u001b[39;49m\u001b[43m.\u001b[49m\u001b[43mlang\u001b[49m\u001b[43m,\u001b[49m\n\u001b[32m     55\u001b[39m \u001b[43m        \u001b[49m\u001b[43mtop_k_results\u001b[49m\u001b[43m=\u001b[49m\u001b[38;5;28;43mself\u001b[39;49m\u001b[43m.\u001b[49m\u001b[43mload_max_docs\u001b[49m\u001b[43m,\u001b[49m\u001b[43m  \u001b[49m\u001b[38;5;66;43;03m# type: ignore[arg-type]\u001b[39;49;00m\n\u001b[32m     56\u001b[39m \u001b[43m        \u001b[49m\u001b[43mload_all_available_meta\u001b[49m\u001b[43m=\u001b[49m\u001b[38;5;28;43mself\u001b[39;49m\u001b[43m.\u001b[49m\u001b[43mload_all_available_meta\u001b[49m\u001b[43m,\u001b[49m\u001b[43m  \u001b[49m\u001b[38;5;66;43;03m# type: ignore[arg-type]\u001b[39;49;00m\n\u001b[32m     57\u001b[39m \u001b[43m        \u001b[49m\u001b[43mdoc_content_chars_max\u001b[49m\u001b[43m=\u001b[49m\u001b[38;5;28;43mself\u001b[39;49m\u001b[43m.\u001b[49m\u001b[43mdoc_content_chars_max\u001b[49m\u001b[43m,\u001b[49m\u001b[43m  \u001b[49m\u001b[38;5;66;43;03m# type: ignore[arg-type]\u001b[39;49;00m\n\u001b[32m     58\u001b[39m \u001b[43m    \u001b[49m\u001b[43m)\u001b[49m\n\u001b[32m     59\u001b[39m     \u001b[38;5;28;01myield from\u001b[39;00m client.load(\u001b[38;5;28mself\u001b[39m.query)\n",
      "    \u001b[31m[... skipping hidden 1 frame]\u001b[39m\n",
      "\u001b[36mFile \u001b[39m\u001b[32me:\\vscode\\udemy-practice\\gen-ai-ollama\\.venv\\Lib\\site-packages\\langchain_community\\utilities\\wikipedia.py:41\u001b[39m, in \u001b[36mWikipediaAPIWrapper.validate_environment\u001b[39m\u001b[34m(cls, values)\u001b[39m\n\u001b[32m     39\u001b[39m     values[\u001b[33m\"\u001b[39m\u001b[33mwiki_client\u001b[39m\u001b[33m\"\u001b[39m] = wikipedia\n\u001b[32m     40\u001b[39m \u001b[38;5;28;01mexcept\u001b[39;00m \u001b[38;5;167;01mImportError\u001b[39;00m:\n\u001b[32m---> \u001b[39m\u001b[32m41\u001b[39m     \u001b[38;5;28;01mraise\u001b[39;00m \u001b[38;5;167;01mImportError\u001b[39;00m(\n\u001b[32m     42\u001b[39m         \u001b[33m\"\u001b[39m\u001b[33mCould not import wikipedia python package. \u001b[39m\u001b[33m\"\u001b[39m\n\u001b[32m     43\u001b[39m         \u001b[33m\"\u001b[39m\u001b[33mPlease install it with `pip install wikipedia`.\u001b[39m\u001b[33m\"\u001b[39m\n\u001b[32m     44\u001b[39m     )\n\u001b[32m     45\u001b[39m \u001b[38;5;28;01mreturn\u001b[39;00m values\n",
      "\u001b[31mImportError\u001b[39m: Could not import wikipedia python package. Please install it with `pip install wikipedia`."
     ]
    }
   ],
   "source": [
    "from langchain_community.document_loaders import WikipediaLoader\n",
    "\n",
    "loader = WikipediaLoader(query=\"Python (programming language)\")\n",
    "documents = loader.load()\n",
    "print(documents[0].page_content)"
   ]
  }
 ],
 "metadata": {
  "kernelspec": {
   "display_name": ".venv",
   "language": "python",
   "name": "python3"
  },
  "language_info": {
   "codemirror_mode": {
    "name": "ipython",
    "version": 3
   },
   "file_extension": ".py",
   "mimetype": "text/x-python",
   "name": "python",
   "nbconvert_exporter": "python",
   "pygments_lexer": "ipython3",
   "version": "3.11.5"
  }
 },
 "nbformat": 4,
 "nbformat_minor": 5
}
