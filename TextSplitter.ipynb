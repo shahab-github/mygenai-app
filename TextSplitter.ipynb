{
 "cells": [
  {
   "cell_type": "markdown",
   "id": "6eb262c4",
   "metadata": {},
   "source": [
    "### We are going to use the TextSplitter class to split the text into chunks"
   ]
  },
  {
   "cell_type": "markdown",
   "id": "07d3bda9",
   "metadata": {},
   "source": [
    "#### First We need to load any documents we want to split\n"
   ]
  },
  {
   "cell_type": "code",
   "execution_count": 8,
   "id": "e9a00101",
   "metadata": {},
   "outputs": [
    {
     "name": "stdout",
     "output_type": "stream",
     "text": [
      "[Document(metadata={'source': './speech.txt'}, page_content=\"Sure! Here's a short speech on the **Bajaj Pulsar 150**, suitable for a presentation, school event, or a general talk:\\n\\n**Speech on Bajaj Pulsar 150**\\n\\nGood \\\\[morning/afternoon/evening] everyone,\\n\\nToday, I would like to talk about one of Indiaâ€™s most iconic motorcycles â€“ the **Bajaj Pulsar 150**.\\n\\nSince its launch in 2001, the Pulsar 150 has become a household name among bike enthusiasts across the country. It wasn't just a bikeâ€”it was a revolution. At a time when most bikes focused purely on mileage, Bajaj dared to deliver **performance, style, and power** in an affordable package. With a sporty design, muscular fuel tank, and a powerful 149cc engine, the Pulsar 150 redefined the Indian biking scene.\\n\\nOver the years, the bike has seen several updates in both design and features, but what has remained consistent is its balance of **power and practicality**. Itâ€™s strong enough for thrill seekers and efficient enough for daily commuters. The digital console, stylish LED tail lamps, and a strong frame make it both appealing and reliable.\\n\\nWhat truly makes the Bajaj Pulsar 150 special is its legacy. It has created a loyal fan base and inspired a whole generation of riders. Whether youâ€™re a college student, a working professional, or just a biking enthusiast, the Pulsar 150 has something for everyone.\\n\\nIn conclusion, the Bajaj Pulsar 150 isnâ€™t just a motorcycleâ€”itâ€™s an emotion. It represents freedom, passion, and performance. And even after more than two decades, it continues to lead the pack, proving that true legends never fade.\\n\\nThank you!\\n\\n---\\n\\nWould you like a version in Hindi or a more technical/detailed version?\\n\")]\n"
     ]
    }
   ],
   "source": [
    "from langchain_community.document_loaders import TextLoader\n",
    "\n",
    "loader = TextLoader(\"./speech.txt\")\n",
    "documents = loader.load()\n",
    "\n",
    "print(documents)"
   ]
  },
  {
   "cell_type": "code",
   "execution_count": 12,
   "id": "a16ad927",
   "metadata": {},
   "outputs": [
    {
     "name": "stdout",
     "output_type": "stream",
     "text": [
      "Total chunks: 30\n",
      "Sure! Here's a short speech on the **Bajaj Pulsar 150**, suitable for a presentation, school event,\n",
      "150**, suitable for a presentation, school event, or a general talk:\n",
      "**Speech on Bajaj Pulsar 150**\n",
      "\n",
      "Good \\[morning/afternoon/evening] everyone,\n",
      "Today, I would like to talk about one of Indiaâ€™s most iconic motorcycles â€“ the **Bajaj Pulsar\n",
      "more than two decades, it continues to lead the pack, proving that true legends never fade.\n",
      "Thank you!\n",
      "\n",
      "---\n",
      "\n",
      "Would you like a version in Hindi or a more technical/detailed version?\n"
     ]
    }
   ],
   "source": [
    "from langchain_text_splitters import RecursiveCharacterTextSplitter\n",
    "\n",
    "text_splitter = RecursiveCharacterTextSplitter(chunk_size=100, chunk_overlap=50)\n",
    "\n",
    "chunks = text_splitter.split_documents(documents)\n",
    "\n",
    "print(f\"Total chunks: {len(chunks)}\")\n",
    "print(chunks[0].page_content)\n",
    "print(chunks[1].page_content)\n",
    "print(chunks[2].page_content)\n",
    "print(chunks[3].page_content)\n",
    "print(chunks[-2].page_content)\n",
    "print(chunks[-1].page_content)"
   ]
  }
 ],
 "metadata": {
  "kernelspec": {
   "display_name": ".venv",
   "language": "python",
   "name": "python3"
  },
  "language_info": {
   "codemirror_mode": {
    "name": "ipython",
    "version": 3
   },
   "file_extension": ".py",
   "mimetype": "text/x-python",
   "name": "python",
   "nbconvert_exporter": "python",
   "pygments_lexer": "ipython3",
   "version": "3.11.5"
  }
 },
 "nbformat": 4,
 "nbformat_minor": 5
}
