{
 "cells": [
  {
   "cell_type": "code",
   "execution_count": 1,
   "id": "22a0e4d9",
   "metadata": {},
   "outputs": [],
   "source": [
    "## Text Loader\n",
    "\n",
    "from langchain_community.document_loaders import TextLoader\n",
    "from langchain_text_splitters import RecursiveCharacterTextSplitter\n",
    "\n",
    "loader = TextLoader(\"speech.txt\")\n",
    "documents = loader.load()\n",
    "\n",
    "text_splitter = RecursiveCharacterTextSplitter(chunk_size=1000, chunk_overlap=50)\n",
    "texts = text_splitter.split_documents(documents)\n"
   ]
  },
  {
   "cell_type": "code",
   "execution_count": 2,
   "id": "a7b44b15",
   "metadata": {},
   "outputs": [
    {
     "name": "stderr",
     "output_type": "stream",
     "text": [
      "C:\\Users\\mdsha\\AppData\\Local\\Temp\\ipykernel_22028\\1466123765.py:3: LangChainDeprecationWarning: The class `OllamaEmbeddings` was deprecated in LangChain 0.3.1 and will be removed in 1.0.0. An updated version of the class exists in the :class:`~langchain-ollama package and should be used instead. To use it run `pip install -U :class:`~langchain-ollama` and import as `from :class:`~langchain_ollama import OllamaEmbeddings``.\n",
      "  embedding = OllamaEmbeddings(model=\"gemma:2b\")\n"
     ]
    }
   ],
   "source": [
    "from langchain_community.embeddings import OllamaEmbeddings\n",
    "\n",
    "embedding = OllamaEmbeddings(model=\"gemma:2b\")\n"
   ]
  },
  {
   "cell_type": "code",
   "execution_count": 6,
   "id": "2abb6d4a",
   "metadata": {},
   "outputs": [],
   "source": [
    "# ElasticSearch as a vector store\n",
    "from langchain_elasticsearch import ElasticsearchStore\n",
    "\n",
    "vectorstore = ElasticsearchStore(\n",
    "    es_url=\"http://localhost:9200\",\n",
    "    index_name=\"langchain\",\n",
    "    embedding=embedding\n",
    ")\n",
    "\n"
   ]
  },
  {
   "cell_type": "code",
   "execution_count": null,
   "id": "ca26341d",
   "metadata": {},
   "outputs": [],
   "source": [
    "db = ElasticsearchStore.from_documents(\n",
    "    es_url=\"http://localhost:9200\",\n",
    "    index_name=\"langchain\",\n",
    "    embedding=embedding,\n",
    "    documents=texts\n",
    ")\n"
   ]
  },
  {
   "cell_type": "code",
   "execution_count": 9,
   "id": "b5ae8603",
   "metadata": {},
   "outputs": [],
   "source": [
    "# retriever\n",
    "\n",
    "retriever = db.as_retriever()\n"
   ]
  },
  {
   "cell_type": "code",
   "execution_count": 12,
   "id": "98fb628b",
   "metadata": {},
   "outputs": [],
   "source": [
    "result = retriever.invoke(\"What is pulsar?\")"
   ]
  },
  {
   "cell_type": "code",
   "execution_count": 13,
   "id": "b97f6915",
   "metadata": {},
   "outputs": [
    {
     "name": "stdout",
     "output_type": "stream",
     "text": [
      "[Document(metadata={'source': 'speech.txt'}, page_content=\"Sure! Here's a short speech on the **Bajaj Pulsar 150**, suitable for a presentation, school event, or a general talk:\\n\\n**Speech on Bajaj Pulsar 150**\\n\\nGood \\\\[morning/afternoon/evening] everyone,\\n\\nToday, I would like to talk about one of Indiaâ€™s most iconic motorcycles â€“ the **Bajaj Pulsar 150**.\\n\\nSince its launch in 2001, the Pulsar 150 has become a household name among bike enthusiasts across the country. It wasn't just a bikeâ€”it was a revolution. At a time when most bikes focused purely on mileage, Bajaj dared to deliver **performance, style, and power** in an affordable package. With a sporty design, muscular fuel tank, and a powerful 149cc engine, the Pulsar 150 redefined the Indian biking scene.\"), Document(metadata={'source': 'speech.txt'}, page_content='Over the years, the bike has seen several updates in both design and features, but what has remained consistent is its balance of **power and practicality**. Itâ€™s strong enough for thrill seekers and efficient enough for daily commuters. The digital console, stylish LED tail lamps, and a strong frame make it both appealing and reliable.\\n\\nWhat truly makes the Bajaj Pulsar 150 special is its legacy. It has created a loyal fan base and inspired a whole generation of riders. Whether youâ€™re a college student, a working professional, or just a biking enthusiast, the Pulsar 150 has something for everyone.\\n\\nIn conclusion, the Bajaj Pulsar 150 isnâ€™t just a motorcycleâ€”itâ€™s an emotion. It represents freedom, passion, and performance. And even after more than two decades, it continues to lead the pack, proving that true legends never fade.\\n\\nThank you!\\n\\n---\\n\\nWould you like a version in Hindi or a more technical/detailed version?')]\n"
     ]
    }
   ],
   "source": [
    "print(result)"
   ]
  }
 ],
 "metadata": {
  "kernelspec": {
   "display_name": ".venv",
   "language": "python",
   "name": "python3"
  },
  "language_info": {
   "codemirror_mode": {
    "name": "ipython",
    "version": 3
   },
   "file_extension": ".py",
   "mimetype": "text/x-python",
   "name": "python",
   "nbconvert_exporter": "python",
   "pygments_lexer": "ipython3",
   "version": "3.11.5"
  }
 },
 "nbformat": 4,
 "nbformat_minor": 5
}
