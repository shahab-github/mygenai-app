{
 "cells": [
  {
   "cell_type": "markdown",
   "id": "3fa13baf",
   "metadata": {},
   "source": [
    "### We will learn the Embeeddings concept\n",
    "\n",
    "#### Ollama Embeddings"
   ]
  },
  {
   "cell_type": "code",
   "execution_count": 4,
   "id": "1427efd8",
   "metadata": {},
   "outputs": [],
   "source": [
    "from langchain_community.embeddings import OllamaEmbeddings\n",
    "\n",
    "embeddings = OllamaEmbeddings(\n",
    "    model=\"gemma:2b\",\n",
    ")\n",
    "\n",
    "r1 = embeddings.embed_documents([\n",
    "    \"Alpha is the first letter of the Greek alphabet.\",\n",
    "    \"Beta is the second letter of the Greek alphabet.\",\n",
    "])\n",
    "\n"
   ]
  },
  {
   "cell_type": "code",
   "execution_count": 5,
   "id": "3a127f8f",
   "metadata": {},
   "outputs": [
    {
     "name": "stderr",
     "output_type": "stream",
     "text": [
      "Created a chunk of size 413, which is longer than the specified 200\n",
      "Created a chunk of size 340, which is longer than the specified 200\n",
      "Created a chunk of size 267, which is longer than the specified 200\n",
      "Created a chunk of size 238, which is longer than the specified 200\n"
     ]
    },
    {
     "data": {
      "text/plain": [
       "<langchain_community.vectorstores.faiss.FAISS at 0x1b059849b50>"
      ]
     },
     "execution_count": 5,
     "metadata": {},
     "output_type": "execute_result"
    }
   ],
   "source": [
    "from langchain_community.document_loaders import TextLoader\n",
    "from langchain_community.vectorstores import FAISS\n",
    "from langchain_community.embeddings import OllamaEmbeddings\n",
    "from langchain_text_splitters import CharacterTextSplitter\n",
    "\n",
    "loader = TextLoader(\"./speech.txt\")\n",
    "documents = loader.load()\n",
    "\n",
    "text_splitter = CharacterTextSplitter(chunk_size=200, chunk_overlap=30)\n",
    "chunks = text_splitter.split_documents(documents)\n",
    "\n",
    "embeddings = OllamaEmbeddings(model=\"gemma:2b\")\n",
    "db = FAISS.from_documents(chunks, embeddings)\n",
    "db\n"
   ]
  },
  {
   "cell_type": "code",
   "execution_count": 7,
   "id": "ee45cc61",
   "metadata": {},
   "outputs": [
    {
     "data": {
      "text/plain": [
       "'Thank you!\\n\\n---\\n\\nWould you like a version in Hindi or a more technical/detailed version?'"
      ]
     },
     "execution_count": 7,
     "metadata": {},
     "output_type": "execute_result"
    }
   ],
   "source": [
    "## querying \n",
    "query = \"What is the main topic of the speech?\"\n",
    "results = db.similarity_search(query)\n",
    "\n",
    "results[0].page_content"
   ]
  },
  {
   "cell_type": "markdown",
   "id": "483f2545",
   "metadata": {},
   "source": [
    "## Retriever"
   ]
  },
  {
   "cell_type": "code",
   "execution_count": 8,
   "id": "71531d9f",
   "metadata": {},
   "outputs": [
    {
     "data": {
      "text/plain": [
       "[Document(id='504f343a-f44a-4e69-a419-3694f9b8f348', metadata={'source': './speech.txt'}, page_content='Thank you!\\n\\n---\\n\\nWould you like a version in Hindi or a more technical/detailed version?'),\n",
       " Document(id='4d44d021-3afe-4dd4-aaa4-eb86db997936', metadata={'source': './speech.txt'}, page_content='Over the years, the bike has seen several updates in both design and features, but what has remained consistent is its balance of **power and practicality**. Itâ€™s strong enough for thrill seekers and efficient enough for daily commuters. The digital console, stylish LED tail lamps, and a strong frame make it both appealing and reliable.'),\n",
       " Document(id='6a809cbc-72eb-4ed1-a1e9-da392d7299ae', metadata={'source': './speech.txt'}, page_content=\"Since its launch in 2001, the Pulsar 150 has become a household name among bike enthusiasts across the country. It wasn't just a bikeâ€”it was a revolution. At a time when most bikes focused purely on mileage, Bajaj dared to deliver **performance, style, and power** in an affordable package. With a sporty design, muscular fuel tank, and a powerful 149cc engine, the Pulsar 150 redefined the Indian biking scene.\"),\n",
       " Document(id='d41ed98d-e0ef-4105-912a-e5f42cf27eea', metadata={'source': './speech.txt'}, page_content='In conclusion, the Bajaj Pulsar 150 isnâ€™t just a motorcycleâ€”itâ€™s an emotion. It represents freedom, passion, and performance. And even after more than two decades, it continues to lead the pack, proving that true legends never fade.')]"
      ]
     },
     "execution_count": 8,
     "metadata": {},
     "output_type": "execute_result"
    }
   ],
   "source": [
    "retriever = db.as_retriever()\n",
    "retriever.invoke(query)"
   ]
  }
 ],
 "metadata": {
  "kernelspec": {
   "display_name": ".venv",
   "language": "python",
   "name": "python3"
  },
  "language_info": {
   "codemirror_mode": {
    "name": "ipython",
    "version": 3
   },
   "file_extension": ".py",
   "mimetype": "text/x-python",
   "name": "python",
   "nbconvert_exporter": "python",
   "pygments_lexer": "ipython3",
   "version": "3.11.5"
  }
 },
 "nbformat": 4,
 "nbformat_minor": 5
}
